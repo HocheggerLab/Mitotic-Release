{
 "cells": [
  {
   "cell_type": "code",
   "execution_count": null,
   "metadata": {
    "collapsed": true
   },
   "outputs": [],
   "source": []
  },
  {
   "cell_type": "code",
   "execution_count": null,
   "outputs": [],
   "source": [],
   "metadata": {
    "collapsed": false
   }
  },
  {
   "cell_type": "code",
   "execution_count": null,
   "outputs": [],
   "source": [],
   "metadata": {
    "collapsed": false
   }
  },
  {
   "cell_type": "code",
   "execution_count": null,
   "outputs": [],
   "source": [],
   "metadata": {
    "collapsed": false
   }
  },
  {
   "cell_type": "code",
   "execution_count": null,
   "outputs": [],
   "source": [],
   "metadata": {
    "collapsed": false
   }
  },
  {
   "cell_type": "code",
   "execution_count": null,
   "outputs": [],
   "source": [
    "def auc_plot(df, path, plate_name):\n",
    "    df_grouped = df.groupby(['well', 'row', 'column', 'siRNA', '1NM_conc', 'time']).mean(numeric_only=True).reset_index()\n",
    "    gene_list = df_grouped['siRNA'].unique()\n",
    "    value_list = []\n",
    "    for i in range(len(df_grouped) // 24):\n",
    "        x = df_grouped.iloc[i * 24:(i + 1) * 24, 5]\n",
    "        y = df_grouped.iloc[i * 24:(i + 1) * 24, 6]\n",
    "        area = np.trapz(y, x=x, axis=- 1)\n",
    "        value_list.append(area)\n",
    "\n",
    "    df_auc = pd.DataFrame()\n",
    "    df_auc['auc_values'] = value_list\n",
    "    df_auc['siRNA'] = [cond for cond in gene_list for i in range(4)]\n",
    "    df_auc['concentration'] = [0, 0.125, 0.25, 0.5] * (len(value_list) // 4)\n",
    "\n",
    "    fig, ax = plt.subplots()\n",
    "    sns.barplot(x='siRNA', y='auc_values', hue='concentration', data=df_auc,\n",
    "                palette=[colors[0], colors[2], colors[3], colors[1]])\n",
    "    ax.set_title(f\"{plate_name}_AUC curves\", fontsize=12)\n",
    "    ax.set_xticklabels(gene_list, rotation=30, ha='right')\n",
    "    ax.set_ylabel('Area under Curve')\n",
    "    ax.legend(title='1NMPP1[uM]', bbox_to_anchor=(1.05, 0.6))\n",
    "    save_fig(path, f\"{plate_name}_AUC_Figure\", tight_layout=False)"
   ],
   "metadata": {
    "collapsed": false
   }
  }
 ],
 "metadata": {
  "kernelspec": {
   "display_name": "Python 3",
   "language": "python",
   "name": "python3"
  },
  "language_info": {
   "codemirror_mode": {
    "name": "ipython",
    "version": 2
   },
   "file_extension": ".py",
   "mimetype": "text/x-python",
   "name": "python",
   "nbconvert_exporter": "python",
   "pygments_lexer": "ipython2",
   "version": "2.7.6"
  }
 },
 "nbformat": 4,
 "nbformat_minor": 0
}
